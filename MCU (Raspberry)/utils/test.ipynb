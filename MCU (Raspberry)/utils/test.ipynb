{
 "cells": [
  {
   "cell_type": "code",
   "execution_count": 18,
   "metadata": {},
   "outputs": [],
   "source": [
    "import numpy as np\n",
    "import cv2"
   ]
  },
  {
   "cell_type": "code",
   "execution_count": 19,
   "metadata": {},
   "outputs": [],
   "source": [
    "x = np.ones([3,3])\n",
    "x[0][:] = 0\n",
    "x[2][:] = 0\n",
    "x = x/np.sum(x)"
   ]
  },
  {
   "cell_type": "code",
   "execution_count": 20,
   "metadata": {},
   "outputs": [
    {
     "data": {
      "text/plain": [
       "array([[  0, 255, 255,   0, 255,   0, 255,   0, 255,   0],\n",
       "       [  0, 255, 255, 255, 255, 255,   0,   0,   0,   0],\n",
       "       [255, 255, 255, 255, 255,   0,   0, 255,   0, 255],\n",
       "       [  0, 255,   0,   0, 255, 255, 255,   0,   0,   0],\n",
       "       [  0, 255, 255,   0, 255,   0, 255,   0, 255, 255],\n",
       "       [  0, 255, 255,   0, 255, 255, 255,   0, 255, 255],\n",
       "       [255, 255, 255,   0, 255, 255,   0, 255,   0,   0],\n",
       "       [255, 255, 255, 255, 255,   0, 255, 255,   0,   0],\n",
       "       [255,   0, 255, 255, 255, 255, 255,   0,   0,   0],\n",
       "       [255, 255,   0, 255,   0, 255,   0,   0, 255, 255]], dtype=uint8)"
      ]
     },
     "execution_count": 20,
     "metadata": {},
     "output_type": "execute_result"
    }
   ],
   "source": [
    "y = np.random.randn(10,10)\n",
    "y = np.uint8(y*255)\n",
    "y[y>120] =255\n",
    "y[y<=120] = 0\n",
    "y"
   ]
  },
  {
   "cell_type": "code",
   "execution_count": 29,
   "metadata": {},
   "outputs": [
    {
     "data": {
      "text/plain": [
       "array([247, 247, 247, 248, 248, 248, 251, 252, 252, 252], dtype=uint8)"
      ]
     },
     "execution_count": 29,
     "metadata": {},
     "output_type": "execute_result"
    }
   ],
   "source": [
    "t = cv2.filter2D(y,-1,x)\n",
    "t[t>120] =255\n",
    "t[t<=120] = 0\n",
    "t\n",
    "sum(t)"
   ]
  },
  {
   "cell_type": "code",
   "execution_count": 27,
   "metadata": {},
   "outputs": [
    {
     "data": {
      "text/plain": [
       "(array([1, 1, 2, 2, 2, 2, 2, 2, 3, 3, 3, 3, 4, 4, 4, 4, 4, 4, 4, 4, 5, 5,\n",
       "        5, 5, 5, 5, 5, 5, 5, 5, 6, 6, 6, 6, 6, 6, 6, 7, 7, 7, 7, 7, 7, 7,\n",
       "        7, 8, 8, 8, 8, 8, 8, 9, 9, 9, 9, 9, 9], dtype=int64),\n",
       " array([4, 5, 0, 1, 2, 3, 4, 8, 0, 4, 5, 6, 0, 1, 2, 3, 5, 7, 8, 9, 0, 1,\n",
       "        2, 3, 4, 5, 6, 7, 8, 9, 0, 1, 2, 3, 4, 5, 6, 0, 1, 2, 3, 4, 5, 6,\n",
       "        7, 1, 2, 3, 4, 5, 6, 0, 1, 2, 4, 8, 9], dtype=int64))"
      ]
     },
     "execution_count": 27,
     "metadata": {},
     "output_type": "execute_result"
    }
   ],
   "source": [
    "t[0] = 0\n",
    "t[1][0:4]=0\n",
    "a = np.where(t>254)\n",
    "a"
   ]
  },
  {
   "cell_type": "code",
   "execution_count": 34,
   "metadata": {},
   "outputs": [
    {
     "data": {
      "text/plain": [
       "5"
      ]
     },
     "execution_count": 34,
     "metadata": {},
     "output_type": "execute_result"
    }
   ],
   "source": [
    "line_mid_x = int(np.mean(a[0]))\n",
    "line_mid_y = np.sum(a[1])\n",
    "line_mid_x"
   ]
  },
  {
   "cell_type": "code",
   "execution_count": 35,
   "metadata": {},
   "outputs": [
    {
     "data": {
      "text/plain": [
       "array([[False, False, False, False,  True, False,  True, False,  True,\n",
       "        False],\n",
       "       [False, False, False, False, False, False,  True,  True,  True,\n",
       "         True],\n",
       "       [False, False, False, False, False,  True,  True,  True, False,\n",
       "         True],\n",
       "       [False,  True,  True,  True, False, False, False,  True,  True,\n",
       "         True],\n",
       "       [False, False, False, False,  True, False,  True, False, False,\n",
       "        False],\n",
       "       [False, False, False, False, False, False, False, False, False,\n",
       "        False],\n",
       "       [False, False, False, False, False, False, False,  True,  True,\n",
       "         True],\n",
       "       [False, False, False, False, False, False, False, False,  True,\n",
       "         True],\n",
       "       [ True, False, False, False, False, False, False,  True,  True,\n",
       "         True],\n",
       "       [False, False, False,  True, False,  True,  True,  True, False,\n",
       "        False]])"
      ]
     },
     "execution_count": 35,
     "metadata": {},
     "output_type": "execute_result"
    }
   ],
   "source": [
    "is_white = t==0\n",
    "is_white"
   ]
  },
  {
   "cell_type": "code",
   "execution_count": 36,
   "metadata": {},
   "outputs": [
    {
     "data": {
      "text/plain": [
       "68"
      ]
     },
     "execution_count": 36,
     "metadata": {},
     "output_type": "execute_result"
    }
   ],
   "source": [
    "np.sum(is_white==0)"
   ]
  },
  {
   "cell_type": "code",
   "execution_count": null,
   "metadata": {},
   "outputs": [],
   "source": []
  }
 ],
 "metadata": {
  "kernelspec": {
   "display_name": "Python 3",
   "language": "python",
   "name": "python3"
  },
  "language_info": {
   "codemirror_mode": {
    "name": "ipython",
    "version": 3
   },
   "file_extension": ".py",
   "mimetype": "text/x-python",
   "name": "python",
   "nbconvert_exporter": "python",
   "pygments_lexer": "ipython3",
   "version": "3.6.4"
  }
 },
 "nbformat": 4,
 "nbformat_minor": 1
}
